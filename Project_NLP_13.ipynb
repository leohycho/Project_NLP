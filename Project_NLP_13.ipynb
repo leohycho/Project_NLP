{
 "cells": [
  {
   "cell_type": "code",
   "execution_count": 9,
   "metadata": {},
   "outputs": [],
   "source": [
    "import tensorflow as tf\n",
    "import matplotlib.pyplot as plt\n",
    "from tensorflow.keras.datasets import mnist\n",
    "from tensorflow.keras.models import Sequential\n",
    "from tensorflow.keras.layers import Flatten, Dense"
   ]
  },
  {
   "cell_type": "code",
   "execution_count": 10,
   "metadata": {},
   "outputs": [],
   "source": [
    "(x_train, y_train), (x_test, y_test) = mnist.load_data()"
   ]
  },
  {
   "cell_type": "code",
   "execution_count": 11,
   "metadata": {},
   "outputs": [],
   "source": [
    "x_train, x_test = x_train / 255.0, x_test /255.0\n",
    "ds = tf.data.Dataset.from_tensor_slices((x_train, y_train)).shuffle(10000)\n",
    "train_size = int(len(x_train) * 0.7)\n",
    "train_ds = ds.take(train_size).batch(20)\n",
    "val_ds = ds.skip(train_size).batch(20)"
   ]
  },
  {
   "cell_type": "code",
   "execution_count": 12,
   "metadata": {},
   "outputs": [],
   "source": [
    "model = Sequential()\n",
    "model.add(Flatten(input_shape=(28,28)))\n",
    "model.add(Dense(20, activation='relu'))\n",
    "model.add(Dense(20, activation='relu'))\n",
    "model.add(Dense(10, activation='softmax'))"
   ]
  },
  {
   "cell_type": "code",
   "execution_count": 13,
   "metadata": {},
   "outputs": [
    {
     "name": "stdout",
     "output_type": "stream",
     "text": [
      "Train for 2100 steps, validate for 900 steps\n",
      "Epoch 1/10\n",
      "2100/2100 [==============================] - 2s 1ms/step - loss: 0.7993 - accuracy: 0.7671 - val_loss: 0.3762 - val_accuracy: 0.8908\n",
      "Epoch 2/10\n",
      "2100/2100 [==============================] - 2s 1ms/step - loss: 0.3486 - accuracy: 0.8997 - val_loss: 0.3030 - val_accuracy: 0.9142\n",
      "Epoch 3/10\n",
      "2100/2100 [==============================] - 2s 1ms/step - loss: 0.2937 - accuracy: 0.9152 - val_loss: 0.2685 - val_accuracy: 0.9246\n",
      "Epoch 4/10\n",
      "2100/2100 [==============================] - 2s 1ms/step - loss: 0.2651 - accuracy: 0.9236 - val_loss: 0.2359 - val_accuracy: 0.9330\n",
      "Epoch 5/10\n",
      "2100/2100 [==============================] - 2s 1ms/step - loss: 0.2354 - accuracy: 0.9335 - val_loss: 0.2381 - val_accuracy: 0.9303\n",
      "Epoch 6/10\n",
      "2100/2100 [==============================] - 2s 998us/step - loss: 0.2183 - accuracy: 0.9371 - val_loss: 0.2022 - val_accuracy: 0.9433\n",
      "Epoch 7/10\n",
      "2100/2100 [==============================] - 2s 1ms/step - loss: 0.2059 - accuracy: 0.9407 - val_loss: 0.2007 - val_accuracy: 0.9421\n",
      "Epoch 8/10\n",
      "2100/2100 [==============================] - 2s 1ms/step - loss: 0.1940 - accuracy: 0.9447 - val_loss: 0.1969 - val_accuracy: 0.9421\n",
      "Epoch 9/10\n",
      "2100/2100 [==============================] - 2s 1ms/step - loss: 0.1849 - accuracy: 0.9473 - val_loss: 0.1910 - val_accuracy: 0.9439\n",
      "Epoch 10/10\n",
      "2100/2100 [==============================] - 2s 1ms/step - loss: 0.1745 - accuracy: 0.9499 - val_loss: 0.1747 - val_accuracy: 0.9507\n"
     ]
    }
   ],
   "source": [
    "model.compile(loss='sparse_categorical_crossentropy', optimizer='sgd', metrics=['accuracy'])\n",
    "hist = model.fit(train_ds, validation_data=val_ds, epochs=10)"
   ]
  },
  {
   "cell_type": "code",
   "execution_count": 14,
   "metadata": {},
   "outputs": [
    {
     "name": "stdout",
     "output_type": "stream",
     "text": [
      "모델 평가\n",
      "10000/10000 [==============================] - 0s 20us/sample - loss: 0.1809 - accuracy: 0.9456\n",
      "Model: \"sequential_1\"\n",
      "_________________________________________________________________\n",
      "Layer (type)                 Output Shape              Param #   \n",
      "=================================================================\n",
      "flatten_1 (Flatten)          (None, 784)               0         \n",
      "_________________________________________________________________\n",
      "dense_3 (Dense)              (None, 20)                15700     \n",
      "_________________________________________________________________\n",
      "dense_4 (Dense)              (None, 20)                420       \n",
      "_________________________________________________________________\n",
      "dense_5 (Dense)              (None, 10)                210       \n",
      "=================================================================\n",
      "Total params: 16,330\n",
      "Trainable params: 16,330\n",
      "Non-trainable params: 0\n",
      "_________________________________________________________________\n"
     ]
    }
   ],
   "source": [
    "print('모델 평가')\n",
    "model.evaluate(x_test, y_test)\n",
    "model.summary()\n",
    "model.save('mnist_model.h5')"
   ]
  },
  {
   "cell_type": "code",
   "execution_count": 15,
   "metadata": {},
   "outputs": [
    {
     "data": {
      "image/png": "[encoded data removed]",
      "text/plain": [
       "<Figure size 432x288 with 2 Axes>"
      ]
     },
     "metadata": {
      "needs_background": "light"
     },
     "output_type": "display_data"
    }
   ],
   "source": [
    "fig, loss_ax = plt.subplots()\n",
    "acc_ax = loss_ax.twinx()\n",
    "\n",
    "loss_ax.plot(hist.history['loss'], 'y', label='train loss')\n",
    "loss_ax.plot(hist.history['val_loss'], 'r', label='val loss')\n",
    "\n",
    "acc_ax.plot(hist.history['accuracy'], 'b', label='train acc')\n",
    "acc_ax.plot(hist.history['val_accuracy'], 'g', label='val acc')\n",
    "\n",
    "loss_ax.set_xlabel('epoch')\n",
    "loss_ax.set_ylabel('loss')\n",
    "\n",
    "acc_ax.set_ylabel('accuracy')\n",
    "\n",
    "loss_ax.legend(loc='upper left')\n",
    "acc_ax.legend(loc='lower left')\n",
    "plt.show()"
   ]
  },
  {
   "cell_type": "code",
   "execution_count": null,
   "metadata": {},
   "outputs": [],
   "source": []
  }
 ],
 "metadata": {
  "interpreter": {
   "hash": "b46031269e45c3a18cdf011ecd5ab10330476fd5a8b31aca725b7d79b96490a5"
  },
  "kernelspec": {
   "display_name": "Python 3.7.11 64-bit ('chatbot_tf21_py37': conda)",
   "language": "python",
   "name": "python3"
  },
  "language_info": {
   "codemirror_mode": {
    "name": "ipython",
    "version": 3
   },
   "file_extension": ".py",
   "mimetype": "text/x-python",
   "name": "python",
   "nbconvert_exporter": "python",
   "pygments_lexer": "ipython3",
   "version": "3.7.11"
  },
  "orig_nbformat": 4
 },
 "nbformat": 4,
 "nbformat_minor": 2
}
