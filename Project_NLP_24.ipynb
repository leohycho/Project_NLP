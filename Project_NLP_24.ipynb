{
 "cells": [
  {
   "cell_type": "code",
   "execution_count": 5,
   "metadata": {},
   "outputs": [],
   "source": [
    "import pymysql\n",
    "\n",
    "db = None\n",
    "try:\n",
    "    # DB 호스트 정보에 맞게 입력해주세요\n",
    "    db = pymysql.connect(\n",
    "        host='127.0.0.1',\n",
    "        user='root',\n",
    "        passwd='secret',\n",
    "        db='homestead',\n",
    "        charset='utf8'\n",
    "    )\n",
    "\n",
    "    # 데이터 삽입 sql 정의\n",
    "    # sql = '''\n",
    "    # INSERT tb_student(name, age, address) values('Kei', 35, 'Korea')\n",
    "    # '''\n",
    "    \n",
    "    id = 1\n",
    "    sql = '''\n",
    "    update tb_student set name=\"케이\", age = 36 where id = %d\n",
    "    ''' % id\n",
    "\n",
    "    # 데이터 삽입\n",
    "    with db.cursor() as cursor:\n",
    "        cursor.execute(sql)\n",
    "    db.commit()\n",
    "\n",
    "except Exception as e:\n",
    "    print(e)\n",
    "\n",
    "finally:\n",
    "    if db is not None:\n",
    "        db.close()\n",
    "\n"
   ]
  },
  {
   "cell_type": "code",
   "execution_count": null,
   "metadata": {},
   "outputs": [],
   "source": []
  }
 ],
 "metadata": {
  "interpreter": {
   "hash": "b46031269e45c3a18cdf011ecd5ab10330476fd5a8b31aca725b7d79b96490a5"
  },
  "kernelspec": {
   "display_name": "Python 3.7.11 64-bit ('chatbot_tf21_py37': conda)",
   "language": "python",
   "name": "python3"
  },
  "language_info": {
   "codemirror_mode": {
    "name": "ipython",
    "version": 3
   },
   "file_extension": ".py",
   "mimetype": "text/x-python",
   "name": "python",
   "nbconvert_exporter": "python",
   "pygments_lexer": "ipython3",
   "version": "3.7.11"
  },
  "orig_nbformat": 4
 },
 "nbformat": 4,
 "nbformat_minor": 2
}
