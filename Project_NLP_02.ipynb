{
 "cells": [
  {
   "cell_type": "code",
   "execution_count": 1,
   "metadata": {},
   "outputs": [
    {
     "name": "stdout",
     "output_type": "stream",
     "text": [
      "Say hello\n",
      "My name is Kbot :D\n"
     ]
    }
   ],
   "source": [
    "class Chatbot:\n",
    "    def sayHello(self):\n",
    "        print('Say hello')\n",
    "    def sayMyName(self):\n",
    "        print('My name is Kbot :D')\n",
    "\n",
    "chatbot = Chatbot()\n",
    "chatbot.sayHello()\n",
    "chatbot.sayMyName()"
   ]
  },
  {
   "cell_type": "code",
   "execution_count": 2,
   "metadata": {},
   "outputs": [
    {
     "name": "stdout",
     "output_type": "stream",
     "text": [
      "call __init__()\n",
      "obj instance is alive ...\n",
      "call __del__()\n"
     ]
    }
   ],
   "source": [
    "class SimpleObj:\n",
    "    def __init__(self):\n",
    "        print('call __init__()')\n",
    "    def __del__(self):\n",
    "        print('call __del__()')\n",
    "\n",
    "obj = SimpleObj()\n",
    "print('obj instance is alive ...')\n",
    "del obj"
   ]
  },
  {
   "cell_type": "code",
   "execution_count": 4,
   "metadata": {},
   "outputs": [
    {
     "name": "stdout",
     "output_type": "stream",
     "text": [
      "value = 100\n",
      "a=200, b=50, c=200, d=50.0\n"
     ]
    }
   ],
   "source": [
    "class Calc:\n",
    "    def __init__(self, init_value):\n",
    "        self.value = init_value\n",
    "    def add(self, n):\n",
    "        return self.value + n\n",
    "    def sub(self, n):\n",
    "        return self.value - n\n",
    "    def mul(self, n):\n",
    "        return self.value * n\n",
    "    def div(self, n):\n",
    "        return self.value / n\n",
    "\n",
    "cal = Calc(100)\n",
    "print('value = {0}'.format(cal.value))\n",
    "\n",
    "a = cal.add(100)\n",
    "b = cal.sub(50)\n",
    "c = cal.mul(2)\n",
    "d = cal.div(2)\n",
    "\n",
    "print(\"a={0}, b={1}, c={2}, d={3}\".format(a, b, c, d))"
   ]
  },
  {
   "cell_type": "code",
   "execution_count": null,
   "metadata": {},
   "outputs": [],
   "source": []
  }
 ],
 "metadata": {
  "interpreter": {
   "hash": "b46031269e45c3a18cdf011ecd5ab10330476fd5a8b31aca725b7d79b96490a5"
  },
  "kernelspec": {
   "display_name": "Python 3.7.11 64-bit ('chatbot_tf21_py37': conda)",
   "name": "python3"
  },
  "language_info": {
   "codemirror_mode": {
    "name": "ipython",
    "version": 3
   },
   "file_extension": ".py",
   "mimetype": "text/x-python",
   "name": "python",
   "nbconvert_exporter": "python",
   "pygments_lexer": "ipython3",
   "version": "3.7.11"
  },
  "orig_nbformat": 4
 },
 "nbformat": 4,
 "nbformat_minor": 2
}
