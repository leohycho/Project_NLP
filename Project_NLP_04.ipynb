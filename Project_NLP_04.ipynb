{
 "cells": [
  {
   "cell_type": "code",
   "execution_count": 1,
   "metadata": {},
   "outputs": [
    {
     "name": "stdout",
     "output_type": "stream",
     "text": [
      "3 6\n",
      "이름\n",
      "Kei\n"
     ]
    }
   ],
   "source": [
    "import openpyxl\n",
    "\n",
    "wb = openpyxl.load_workbook('./sample.xlsx')\n",
    "sheet = wb['Sheet1']\n",
    "print(sheet.max_column, sheet.max_row)\n",
    "print(sheet.cell(row=1, column=1).value)\n",
    "print(sheet.cell(row=2, column=1).value)\n",
    "wb.close()"
   ]
  },
  {
   "cell_type": "code",
   "execution_count": 2,
   "metadata": {},
   "outputs": [
    {
     "name": "stdout",
     "output_type": "stream",
     "text": [
      "Kei\n",
      "35\n",
      "1234-1234\n",
      "----------\n",
      "Hong\n",
      "26\n",
      "4320-1420\n",
      "----------\n",
      "Kim\n",
      "41\n",
      "1234-5678\n",
      "----------\n",
      "Choi\n",
      "38\n",
      "4023-3411\n",
      "----------\n",
      "Go\n",
      "27\n",
      "1469-4023\n",
      "----------\n"
     ]
    }
   ],
   "source": [
    "import openpyxl\n",
    "\n",
    "wb = openpyxl.load_workbook('./sample.xlsx')\n",
    "sheet = wb['Sheet1']\n",
    "\n",
    "for row in sheet.iter_rows(min_row=2):\n",
    "    for cell in row:\n",
    "        print(cell.value)\n",
    "    print('-' * 10)\n",
    "\n",
    "wb.close()"
   ]
  },
  {
   "cell_type": "code",
   "execution_count": 3,
   "metadata": {},
   "outputs": [
    {
     "name": "stdout",
     "output_type": "stream",
     "text": [
      "Kei\n",
      "35\n",
      "1234-1234\n",
      "----------\n",
      "Hong\n",
      "26\n",
      "4320-1420\n",
      "----------\n"
     ]
    }
   ],
   "source": [
    "import openpyxl\n",
    "\n",
    "wb = openpyxl.load_workbook('./sample.xlsx')\n",
    "sheet = wb['Sheet1']\n",
    "\n",
    "cells = sheet['A2':'C3']\n",
    "\n",
    "for row in cells:\n",
    "    for cell in row:\n",
    "        print(cell.value)\n",
    "    print('-' * 10)\n",
    "\n",
    "wb.close()"
   ]
  },
  {
   "cell_type": "code",
   "execution_count": 7,
   "metadata": {},
   "outputs": [
    {
     "name": "stdout",
     "output_type": "stream",
     "text": [
      "0 이름\n",
      "1 전화번호\n",
      "0 ('kei', '010-1234-1234') 0 kei\n",
      "0 ('kei', '010-1234-1234') 1 010-1234-1234\n",
      "1 ('hong', '010-4321-1234') 0 hong\n",
      "1 ('hong', '010-4321-1234') 1 010-4321-1234\n"
     ]
    }
   ],
   "source": [
    "import openpyxl\n",
    "\n",
    "wb = openpyxl.Workbook()\n",
    "sheet = wb.active\n",
    "sheet.title = '회원정보'\n",
    "header_titles = ['이름', '전화번호']\n",
    "for idx, title in enumerate(header_titles):\n",
    "    sheet.cell(row=1, column=idx+1, value=title)\n",
    "    print(idx, title)\n",
    "\n",
    "members = [('kei','010-1234-1234'), ('hong','010-4321-1234')]\n",
    "row_num = 2\n",
    "for r, member in enumerate(members):\n",
    "    for c, v in enumerate(member):\n",
    "        sheet.cell(row=row_num+r, column=c+1, value=v)\n",
    "        print(r, member, c, v)\n",
    "\n",
    "wb.save('./members.xlsx')\n",
    "wb.close()\n"
   ]
  },
  {
   "cell_type": "code",
   "execution_count": null,
   "metadata": {},
   "outputs": [],
   "source": []
  }
 ],
 "metadata": {
  "interpreter": {
   "hash": "b46031269e45c3a18cdf011ecd5ab10330476fd5a8b31aca725b7d79b96490a5"
  },
  "kernelspec": {
   "display_name": "Python 3.7.11 64-bit ('chatbot_tf21_py37': conda)",
   "name": "python3"
  },
  "language_info": {
   "codemirror_mode": {
    "name": "ipython",
    "version": 3
   },
   "file_extension": ".py",
   "mimetype": "text/x-python",
   "name": "python",
   "nbconvert_exporter": "python",
   "pygments_lexer": "ipython3",
   "version": "3.7.11"
  },
  "orig_nbformat": 4
 },
 "nbformat": 4,
 "nbformat_minor": 2
}
