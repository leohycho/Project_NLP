{
 "cells": [
  {
   "cell_type": "code",
   "execution_count": 1,
   "metadata": {},
   "outputs": [
    {
     "name": "stdout",
     "output_type": "stream",
     "text": [
      "[1 2 3]\n",
      "<class 'numpy.ndarray'>\n"
     ]
    }
   ],
   "source": [
    "import numpy as np\n",
    "\n",
    "arr = np.array([1,2,3])\n",
    "print(arr)\n",
    "print(type(arr))"
   ]
  },
  {
   "cell_type": "code",
   "execution_count": 3,
   "metadata": {},
   "outputs": [
    {
     "name": "stdout",
     "output_type": "stream",
     "text": [
      "[[1 2 3]\n",
      " [4 5 6]]\n"
     ]
    }
   ],
   "source": [
    "import numpy as np\n",
    "\n",
    "matrix = np.array([[1,2,3],[4,5,6]])\n",
    "print(matrix)"
   ]
  },
  {
   "cell_type": "code",
   "execution_count": 11,
   "metadata": {},
   "outputs": [
    {
     "name": "stdout",
     "output_type": "stream",
     "text": [
      "[[ 6  9]\n",
      " [14 21]\n",
      " [22 33]]\n",
      "(3, 2)  X  (2, 2)  =  (3, 2)\n",
      "int32\n"
     ]
    }
   ],
   "source": [
    "import numpy as np\n",
    "\n",
    "A = np.array([ [1,2], [3,4], [5,6] ])\n",
    "B = np.array([ [2,3], [2,3] ])\n",
    "C = np.matmul(A, B)\n",
    "print(C)\n",
    "print(A.shape,' X ', B.shape, ' = ', C.shape)\n",
    "print(C.dtype)"
   ]
  },
  {
   "cell_type": "code",
   "execution_count": 15,
   "metadata": {},
   "outputs": [
    {
     "name": "stdout",
     "output_type": "stream",
     "text": [
      "0    100\n",
      "1    200\n",
      "2    300\n",
      "dtype: int64\n",
      "국어    90\n",
      "수학    80\n",
      "영어    99\n",
      "dtype: int64\n",
      "Index(['국어', '수학', '영어'], dtype='object')\n",
      "[90 80 99]\n",
      "수학 80\n"
     ]
    }
   ],
   "source": [
    "import pandas as pd\n",
    "\n",
    "numbers = pd.Series([100,200,300])\n",
    "\n",
    "print(numbers)\n",
    "\n",
    "scores = pd.Series([90,80,99], index=['국어','수학','영어'])\n",
    "print(scores)\n",
    "print(scores.index)\n",
    "print(scores.values)\n",
    "print(scores.index[1], scores.values[1])"
   ]
  },
  {
   "cell_type": "code",
   "execution_count": 16,
   "metadata": {},
   "outputs": [
    {
     "name": "stdout",
     "output_type": "stream",
     "text": [
      "       Spring  Summer  Fall  Winter\n",
      "Seoul     3.3    34.5  14.2     -10\n",
      "Pusan     7.1    32.1  10.7       2\n"
     ]
    }
   ],
   "source": [
    "import pandas as pd\n",
    "\n",
    "temperatures = [ [3.3, 34.5, 14.2, -10], [7.1, 32.1, 10.7, 2]]\n",
    "seasons = ['Spring', 'Summer', 'Fall', 'Winter']\n",
    "regions = ['Seoul', 'Pusan']\n",
    "\n",
    "data = pd.DataFrame(temperatures, index=regions, columns=seasons)\n",
    "\n",
    "print(data)"
   ]
  },
  {
   "cell_type": "code",
   "execution_count": 20,
   "metadata": {},
   "outputs": [
    {
     "name": "stdout",
     "output_type": "stream",
     "text": [
      "     이름  나이       전화번호\n",
      "0   Kei  35  1234-1234\n",
      "1  Hong  26  4320-1420\n",
      "2   Kim  41  1234-5678\n",
      "3  Choi  38  4023-3411\n",
      "4    Go  27  1469-4023\n",
      "--------------------------------------------------\n",
      "   이름  나이       전화번호\n",
      "4  Go  27  1469-4023\n"
     ]
    }
   ],
   "source": [
    "import pandas as pd\n",
    "\n",
    "user_list = pd.read_excel('sample.xlsx', sheet_name=\"Sheet1\")\n",
    "\n",
    "print(user_list)\n",
    "print('-' * 50)\n",
    "print(user_list.tail(1))\n"
   ]
  },
  {
   "cell_type": "code",
   "execution_count": 22,
   "metadata": {},
   "outputs": [
    {
     "name": "stdout",
     "output_type": "stream",
     "text": [
      "x축 [0, 1, 2, 3, 4, 5, 6, 7, 8, 9, 10]\n",
      "y축 [0, 1, 2, 3, 4, 5, 6, 7, 8, 9, 10]\n"
     ]
    },
    {
     "data": {
      "image/png": "[encoded data removed]",
      "text/plain": [
       "<Figure size 432x288 with 1 Axes>"
      ]
     },
     "metadata": {
      "needs_background": "light"
     },
     "output_type": "display_data"
    }
   ],
   "source": [
    "import matplotlib.pyplot as plt\n",
    "\n",
    "x = [a for a in range(0,11)]\n",
    "y = list(range(0,11))\n",
    "\n",
    "print('x축', x)\n",
    "print('y축', y)\n",
    "\n",
    "plt.plot(x, y)\n",
    "plt.show()"
   ]
  },
  {
   "cell_type": "code",
   "execution_count": 25,
   "metadata": {},
   "outputs": [
    {
     "name": "stdout",
     "output_type": "stream",
     "text": [
      "x축 [-8, -7, -6, -5, -4, -3, -2, -1, 0, 1, 2, 3, 4, 5, 6, 7, 8]\n",
      "y축 [64, 49, 36, 25, 16, 9, 4, 1, 0, 1, 4, 9, 16, 25, 36, 49, 64]\n"
     ]
    },
    {
     "data": {
      "image/png": "[encoded data removed]",
      "text/plain": [
       "<Figure size 432x288 with 1 Axes>"
      ]
     },
     "metadata": {
      "needs_background": "light"
     },
     "output_type": "display_data"
    }
   ],
   "source": [
    "import matplotlib.pyplot as plt\n",
    "\n",
    "f = lambda x: x ** 2\n",
    "\n",
    "x = [x for x in range(-8,9)]\n",
    "y = [f(y) for y in range(-8,9)]\n",
    "\n",
    "print('x축', x)\n",
    "print('y축', y)\n",
    "\n",
    "plt.plot(x, y)\n",
    "plt.show()"
   ]
  },
  {
   "cell_type": "code",
   "execution_count": 32,
   "metadata": {},
   "outputs": [
    {
     "data": {
      "image/png": "[encoded data removed]",
      "text/plain": [
       "<Figure size 432x288 with 1 Axes>"
      ]
     },
     "metadata": {
      "needs_background": "light"
     },
     "output_type": "display_data"
    }
   ],
   "source": [
    "# import pandas as pd\n",
    "import matplotlib.pyplot as plt\n",
    "\n",
    "temperatures = [ [3.3, 34.5, 14.2, -10], [7.1, 32.1, 10.7, 2] ]\n",
    "seasons = ['Spring', 'Summer', 'Fall', 'Winter']\n",
    "regions = ['Seoul', 'Pusan']\n",
    "\n",
    "x = list(range(4))\n",
    "x_labels = seasons\n",
    "\n",
    "plt.title(\"Bar Chart\")\n",
    "plt.bar(x, temperatures[0])\n",
    "plt.xticks(x, x_labels)\n",
    "plt.yticks(sorted(temperatures[0]))\n",
    "plt.xlabel(\"seasons\")\n",
    "plt.ylabel(\"temperatures\")\n",
    "plt.show()"
   ]
  },
  {
   "cell_type": "code",
   "execution_count": null,
   "metadata": {},
   "outputs": [],
   "source": []
  }
 ],
 "metadata": {
  "interpreter": {
   "hash": "b46031269e45c3a18cdf011ecd5ab10330476fd5a8b31aca725b7d79b96490a5"
  },
  "kernelspec": {
   "display_name": "Python 3.7.11 64-bit ('chatbot_tf21_py37': conda)",
   "name": "python3"
  },
  "language_info": {
   "codemirror_mode": {
    "name": "ipython",
    "version": 3
   },
   "file_extension": ".py",
   "mimetype": "text/x-python",
   "name": "python",
   "nbconvert_exporter": "python",
   "pygments_lexer": "ipython3",
   "version": "3.7.11"
  },
  "orig_nbformat": 4
 },
 "nbformat": 4,
 "nbformat_minor": 2
}
