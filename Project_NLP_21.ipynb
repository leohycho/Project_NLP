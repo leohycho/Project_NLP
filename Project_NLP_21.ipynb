{
 "cells": [
  {
   "cell_type": "code",
   "execution_count": 2,
   "metadata": {},
   "outputs": [],
   "source": [
    "import pymysql"
   ]
  },
  {
   "cell_type": "code",
   "execution_count": 3,
   "metadata": {},
   "outputs": [
    {
     "name": "stdout",
     "output_type": "stream",
     "text": [
      "DB 연결 성공\n",
      "DB 연결 닫기 성공\n"
     ]
    }
   ],
   "source": [
    "# DB_HOST=127.0.0.1\n",
    "# DB_PORT=3306\n",
    "# DB_DATABASE=homestead\n",
    "# DB_USERNAME=homestead\n",
    "# DB_PASSWORD=secret\n",
    "\n",
    "db = None\n",
    "try:\n",
    "    # 127.0.0.1 => localhost\n",
    "    db = pymysql.connect(\n",
    "        host='127.0.0.1',\n",
    "        user='root',\n",
    "        passwd='Leo@8831071',\n",
    "        db='homestead',\n",
    "        charset='utf8'\n",
    "    )\n",
    "    print(\"DB 연결 성공\")\n",
    "\n",
    "\n",
    "except Exception as e:\n",
    "    print(e)\n",
    "\n",
    "finally:\n",
    "    if db is not None:\n",
    "        db.close()\n",
    "        print(\"DB 연결 닫기 성공\")\n"
   ]
  },
  {
   "cell_type": "code",
   "execution_count": null,
   "metadata": {},
   "outputs": [],
   "source": []
  }
 ],
 "metadata": {
  "interpreter": {
   "hash": "b46031269e45c3a18cdf011ecd5ab10330476fd5a8b31aca725b7d79b96490a5"
  },
  "kernelspec": {
   "display_name": "Python 3.7.11 64-bit ('chatbot_tf21_py37': conda)",
   "language": "python",
   "name": "python3"
  },
  "language_info": {
   "codemirror_mode": {
    "name": "ipython",
    "version": 3
   },
   "file_extension": ".py",
   "mimetype": "text/x-python",
   "name": "python",
   "nbconvert_exporter": "python",
   "pygments_lexer": "ipython3",
   "version": "3.7.11"
  },
  "orig_nbformat": 4
 },
 "nbformat": 4,
 "nbformat_minor": 2
}
