{
 "cells": [
  {
   "cell_type": "code",
   "execution_count": 1,
   "metadata": {},
   "outputs": [
    {
     "name": "stdout",
     "output_type": "stream",
     "text": [
      "[{'id': 1, 'name': '케이', 'age': 36, 'address': 'Korea'}, {'id': 2, 'name': 'Kei', 'age': 36, 'address': 'PUSAN'}, {'id': 3, 'name': 'Tony', 'age': 34, 'address': 'PUSAN'}, {'id': 4, 'name': 'Jaeyoo', 'age': 39, 'address': 'GWANGJU'}]\n",
      "Grace 28\n",
      "   id    name  age  address\n",
      "0   1      케이   36    Korea\n",
      "1   2     Kei   36    PUSAN\n",
      "2   3    Tony   34    PUSAN\n",
      "3   4  Jaeyoo   39  GWANGJU\n"
     ]
    }
   ],
   "source": [
    "import pymysql\n",
    "import pandas as pd\n",
    "\n",
    "db = None\n",
    "try:\n",
    "    # DB 호스트 정보에 맞게 입력해주세요\n",
    "    db = pymysql.connect(\n",
    "        host='127.0.0.1',\n",
    "        user='root',\n",
    "        passwd='Leo@8831071',\n",
    "        db='homestead',\n",
    "        charset='utf8'\n",
    "    )\n",
    "\n",
    "    # 데이터 정의\n",
    "    students = [\n",
    "        {'name': 'Kei', 'age': 36, 'address' : 'PUSAN'},\n",
    "        {'name': 'Tony', 'age': 34, 'address': 'PUSAN'},\n",
    "        {'name': 'Jaeyoo', 'age': 39, 'address': 'GWANGJU'},\n",
    "        {'name': 'Grace', 'age': 28, 'address': 'SEOUL'},\n",
    "        {'name': 'Jenny', 'age': 27, 'address': 'SEOUL'},\n",
    "    ]\n",
    "\n",
    "    # 데이터 db에 추가\n",
    "    for s in students:\n",
    "        with db.cursor() as cursor:\n",
    "            sql = '''\n",
    "                    insert tb_student(name, age, address) values(\"%s\",%d,\"%s\")\n",
    "                    ''' % (s['name'], s['age'], s['address'])\n",
    "            cursor.execute(sql)\n",
    "    db.commit() # 커밋\n",
    "\n",
    "    # 30대 학생만 조회\n",
    "    cond_age = 30\n",
    "    with db.cursor(pymysql.cursors.DictCursor) as cursor:\n",
    "        sql = ''' \n",
    "        select * from tb_student where age > %d\n",
    "        ''' % cond_age\n",
    "        cursor.execute(sql)\n",
    "        results = cursor.fetchall()\n",
    "    print(results)\n",
    "\n",
    "    # 이름 검색\n",
    "    cond_name = 'Grace'\n",
    "    with db.cursor(pymysql.cursors.DictCursor) as cursor:\n",
    "        sql = ''' \n",
    "        select * from tb_student where name=\"%s\"\n",
    "        ''' % cond_name\n",
    "        cursor.execute(sql)\n",
    "        result = cursor.fetchone()\n",
    "    print(result['name'], result['age'])\n",
    "\n",
    "    # pandas 데이터프레임으로 표현\n",
    "    df = pd.DataFrame(results)\n",
    "    print(df)\n",
    "\n",
    "\n",
    "except Exception as e:\n",
    "    print(e)\n",
    "\n",
    "finally:\n",
    "    if db is not None:\n",
    "        db.close()\n",
    "\n"
   ]
  },
  {
   "cell_type": "code",
   "execution_count": null,
   "metadata": {},
   "outputs": [],
   "source": []
  }
 ],
 "metadata": {
  "interpreter": {
   "hash": "b46031269e45c3a18cdf011ecd5ab10330476fd5a8b31aca725b7d79b96490a5"
  },
  "kernelspec": {
   "display_name": "Python 3.7.11 64-bit ('chatbot_tf21_py37': conda)",
   "language": "python",
   "name": "python3"
  },
  "language_info": {
   "codemirror_mode": {
    "name": "ipython",
    "version": 3
   },
   "file_extension": ".py",
   "mimetype": "text/x-python",
   "name": "python",
   "nbconvert_exporter": "python",
   "pygments_lexer": "ipython3",
   "version": "3.7.11"
  },
  "orig_nbformat": 4
 },
 "nbformat": 4,
 "nbformat_minor": 2
}
